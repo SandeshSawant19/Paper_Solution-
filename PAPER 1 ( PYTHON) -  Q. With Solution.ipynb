{
 "cells": [
  {
   "cell_type": "markdown",
   "id": "aca2e480",
   "metadata": {},
   "source": [
    "#    Q.1 Difference between Python version 2 and version 3 ? How do you check current version of python?\n",
    "\n",
    "Ans:- \n",
    "\n",
    "A. Print Function:  Python 2 - print statement is used to print values to the console without using parentheses.\n",
    "                    Python 3 - print statement has been replaced by the print() function,which requires parentheses.\n",
    "\n",
    "B. Integer Division:Python 2 - Dividing two integers results in integer division (truncation of the decimal part).\n",
    "                    Python 3 - Division of integers results in a float, and if you want integer division, you can use                                      the // operator.\n",
    "                    \n",
    "C. Unicode Support: Python 2 - Treats strings as sequences of bytes by default, and Unicode support is added using a\"u\"                                    prefix.\n",
    "                    Python 3 - Supports Unicode natively, and strings are Unicode by default.\n",
    "\n",
    "D. Input Function:  Python 2 - the input() function evaluates user input as a Python expression, and raw_input() is used to                                get a string from the user.\n",
    "                    Python 3 - input() is used to get a string, and eval() is used to evaluate expressions.\n",
    "\n",
    "\n",
    "Sr No.           Description                       Python 2                          Python 3\n",
    "\n",
    "  A             Print Function                print \"Hello, World!\"           print (\"Hello, World!\")\n",
    "  \n",
    "  B            Integer Division                   a = 5 / 2                     a = 5 / 2 |  a = 5 // 2\n",
    "  \n",
    "  C            Unicode Support              string = u\"Hello, World!\"         string = \"Hello, World!\"\n",
    "  \n",
    "  D            Input Function                    name =                        name = input(\"Enter your name: \")\n",
    "                                         raw_input(\"Enter your name: \")\n",
    " "
   ]
  },
  {
   "cell_type": "code",
   "execution_count": 1,
   "id": "f3f6ce30",
   "metadata": {},
   "outputs": [
    {
     "data": {
      "text/plain": [
       "'3.11.5'"
      ]
     },
     "execution_count": 1,
     "metadata": {},
     "output_type": "execute_result"
    }
   ],
   "source": [
    "#check current version of python?\n",
    "\n",
    "from platform import python_version\n",
    "python_version()"
   ]
  },
  {
   "cell_type": "code",
   "execution_count": null,
   "id": "6cf53467",
   "metadata": {},
   "outputs": [],
   "source": []
  },
  {
   "cell_type": "markdown",
   "id": "8f617a5e",
   "metadata": {},
   "source": [
    "#    Q.2 Difference between local variable vs global variable ?examples ?\n",
    "\n",
    "Ans-\n",
    "\n",
    "1. Local variables - declared inside a function and can only be accessed within that function.\n",
    "2. Global variable - declared outside a function and can accessed from anywhere in program."
   ]
  },
  {
   "cell_type": "code",
   "execution_count": 2,
   "id": "c6bd0121",
   "metadata": {},
   "outputs": [
    {
     "ename": "NameError",
     "evalue": "name 'x' is not defined",
     "output_type": "error",
     "traceback": [
      "\u001b[1;31m---------------------------------------------------------------------------\u001b[0m",
      "\u001b[1;31mNameError\u001b[0m                                 Traceback (most recent call last)",
      "Cell \u001b[1;32mIn[2], line 7\u001b[0m\n\u001b[0;32m      3\u001b[0m \u001b[38;5;28;01mdef\u001b[39;00m \u001b[38;5;21mLocal_variable\u001b[39m():\n\u001b[0;32m      5\u001b[0m     x \u001b[38;5;241m=\u001b[39m \u001b[38;5;241m5\u001b[39m\n\u001b[1;32m----> 7\u001b[0m \u001b[38;5;28mprint\u001b[39m(\u001b[38;5;124m\"\u001b[39m\u001b[38;5;124mOutput : \u001b[39m\u001b[38;5;124m\"\u001b[39m, x)\n",
      "\u001b[1;31mNameError\u001b[0m: name 'x' is not defined"
     ]
    }
   ],
   "source": [
    "# local variable Example\n",
    "\n",
    "def Local_variable():\n",
    "     \n",
    "    x = 5\n",
    "\n",
    "print(\"Output : \", x)"
   ]
  },
  {
   "cell_type": "code",
   "execution_count": 3,
   "id": "b697d724",
   "metadata": {},
   "outputs": [],
   "source": [
    "# global variable Example\n",
    "\n",
    "y = 10\n",
    "\n",
    "def Global_variable():\n",
    "    print(y)"
   ]
  },
  {
   "cell_type": "markdown",
   "id": "6589870e",
   "metadata": {},
   "source": [
    "# Q.3 What are the data types in python ?\n",
    "\n",
    "Ans - \n",
    "\n",
    "There Are Following data types in Python:\n",
    "Float, Int, String, Boolean \n",
    "\n",
    "(a). Integer  = All positive and negative values .\n",
    "                Example  = a = 67,89,-12,-57,890\n",
    "\n",
    "(b). FLOAT    = All decimal values .\n",
    "                Examples = a = 67.89 , 34.567\n",
    "\n",
    "(c). STRING   = ''(Single Quotes) , \" \"(Double Quotes) , ''' ''' (Triple Quotes)\n",
    "                Example  = a = \"sam\" , 'sam' , '''sam'''\n",
    "\n",
    "(d). Boolean  = Conditions \n",
    "                Correct ==> TRUE , OTHERWISE ==> FALSE\n"
   ]
  },
  {
   "cell_type": "code",
   "execution_count": null,
   "id": "0ab1707c",
   "metadata": {},
   "outputs": [],
   "source": []
  },
  {
   "cell_type": "markdown",
   "id": "bdf59e92",
   "metadata": {},
   "source": [
    "# Q.4 What is difference between Mutable and Immutable Data types ? How many data types are mutable or not ?Please provide reason with examples?\n",
    "\n",
    "Ans - \n",
    "\n",
    "Mutable Data Types - that can be changed after they are created\n",
    "\n",
    "Immutable Data Types - cannot be changed after they are created."
   ]
  },
  {
   "cell_type": "code",
   "execution_count": 4,
   "id": "1093565c",
   "metadata": {},
   "outputs": [
    {
     "name": "stdout",
     "output_type": "stream",
     "text": [
      "[4, 2, 3]\n"
     ]
    }
   ],
   "source": [
    "list = [1, 2, 3]        #Mutable Data Types\n",
    "list[0] = 4\n",
    "print(list)"
   ]
  },
  {
   "cell_type": "code",
   "execution_count": 5,
   "id": "bf84100a",
   "metadata": {},
   "outputs": [
    {
     "ename": "TypeError",
     "evalue": "'str' object does not support item assignment",
     "output_type": "error",
     "traceback": [
      "\u001b[1;31m---------------------------------------------------------------------------\u001b[0m",
      "\u001b[1;31mTypeError\u001b[0m                                 Traceback (most recent call last)",
      "Cell \u001b[1;32mIn[5], line 2\u001b[0m\n\u001b[0;32m      1\u001b[0m my_string \u001b[38;5;241m=\u001b[39m \u001b[38;5;124m\"\u001b[39m\u001b[38;5;124mhello\u001b[39m\u001b[38;5;124m\"\u001b[39m     \u001b[38;5;66;03m#Immutable Data Types\u001b[39;00m\n\u001b[1;32m----> 2\u001b[0m my_string[\u001b[38;5;241m0\u001b[39m] \u001b[38;5;241m=\u001b[39m \u001b[38;5;124m\"\u001b[39m\u001b[38;5;124mb\u001b[39m\u001b[38;5;124m\"\u001b[39m\n\u001b[0;32m      3\u001b[0m \u001b[38;5;28mprint\u001b[39m(my_string)\n",
      "\u001b[1;31mTypeError\u001b[0m: 'str' object does not support item assignment"
     ]
    }
   ],
   "source": [
    "my_string = \"hello\"     #Immutable Data Types\n",
    "my_string[0] = \"b\"\n",
    "print(my_string)"
   ]
  },
  {
   "cell_type": "code",
   "execution_count": null,
   "id": "a353ce3e",
   "metadata": {},
   "outputs": [],
   "source": []
  },
  {
   "cell_type": "markdown",
   "id": "5a1ac122",
   "metadata": {},
   "source": [
    "# Q.5 Why we use loops ? Please provide 3 examples of for loop and 3 examples of while loop ?\n",
    "Ans - \n",
    "Loops are used in programming to execute a set of statements repeatedly until a certain condition is met."
   ]
  },
  {
   "cell_type": "markdown",
   "id": "d814f3ec",
   "metadata": {},
   "source": [
    "# FOR LOOP EXAMPLE"
   ]
  },
  {
   "cell_type": "code",
   "execution_count": 6,
   "id": "b69f36eb",
   "metadata": {},
   "outputs": [
    {
     "name": "stdout",
     "output_type": "stream",
     "text": [
      "01234"
     ]
    }
   ],
   "source": [
    "for i in range(5):                      # 1st Example\n",
    "    print(i, end ='')\n"
   ]
  },
  {
   "cell_type": "code",
   "execution_count": 7,
   "id": "ff3aa0e7",
   "metadata": {},
   "outputs": [
    {
     "name": "stdout",
     "output_type": "stream",
     "text": [
      "apple\n",
      "banana\n",
      "orange\n"
     ]
    }
   ],
   "source": [
    "fruits = ['apple', 'banana', 'orange']   # 2nd Example\n",
    "for fruit in fruits:\n",
    "    print(fruit)"
   ]
  },
  {
   "cell_type": "code",
   "execution_count": 8,
   "id": "ea84fb40",
   "metadata": {},
   "outputs": [
    {
     "name": "stdout",
     "output_type": "stream",
     "text": [
      "sam"
     ]
    }
   ],
   "source": [
    "a = \"sam\"                                # 3rd Example\n",
    "for i in a : \n",
    "    print(i, end ='')"
   ]
  },
  {
   "cell_type": "markdown",
   "id": "59167943",
   "metadata": {},
   "source": [
    "\n",
    "# WHILE LOOP EXAMPLE"
   ]
  },
  {
   "cell_type": "code",
   "execution_count": 9,
   "id": "1d484846",
   "metadata": {},
   "outputs": [
    {
     "name": "stdout",
     "output_type": "stream",
     "text": [
      "1234"
     ]
    }
   ],
   "source": [
    "i = 1\n",
    "n = 4\n",
    "while (i<=n):\n",
    "    print(i, end = '')\n",
    "    i = i+1"
   ]
  },
  {
   "cell_type": "code",
   "execution_count": 10,
   "id": "78b90c58",
   "metadata": {},
   "outputs": [
    {
     "name": "stdout",
     "output_type": "stream",
     "text": [
      "4321"
     ]
    }
   ],
   "source": [
    "i = 4\n",
    "n = 1\n",
    "while (i>=n):\n",
    "    print(i, end = '')\n",
    "    i = i-1"
   ]
  },
  {
   "cell_type": "code",
   "execution_count": 12,
   "id": "a936a181",
   "metadata": {},
   "outputs": [
    {
     "name": "stdout",
     "output_type": "stream",
     "text": [
      "Enter value :5\n",
      "55\n"
     ]
    }
   ],
   "source": [
    "i = 1\n",
    "n = int(input(\"Enter value :\"))\n",
    "Sum = 0\n",
    "while(i<=n):\n",
    "    Sum = Sum + (i*i)\n",
    "    i = i + 1\n",
    "print(Sum)"
   ]
  },
  {
   "cell_type": "code",
   "execution_count": null,
   "id": "ba299aa2",
   "metadata": {},
   "outputs": [],
   "source": []
  },
  {
   "cell_type": "markdown",
   "id": "56466277",
   "metadata": {},
   "source": [
    "# Q.6 Why we use functions ? Difference between lambda , filter , reduce , map function with examples ? "
   ]
  },
  {
   "cell_type": "markdown",
   "id": "ab123a80",
   "metadata": {},
   "source": [
    "Functions are integral parts of every programming language because they help to make code more modular & reusable."
   ]
  },
  {
   "cell_type": "markdown",
   "id": "6b6081a7",
   "metadata": {},
   "source": [
    "# LAMBDA FUNCTION :"
   ]
  },
  {
   "cell_type": "code",
   "execution_count": 14,
   "id": "38d7e86f",
   "metadata": {},
   "outputs": [
    {
     "name": "stdout",
     "output_type": "stream",
     "text": [
      "Final Output is  7\n"
     ]
    }
   ],
   "source": [
    "x = lambda a : a+5\n",
    "print(\"Final Output is \", x(2))\n",
    "    "
   ]
  },
  {
   "cell_type": "markdown",
   "id": "e6d65a60",
   "metadata": {},
   "source": [
    "# FILTER FUNCTION :"
   ]
  },
  {
   "cell_type": "code",
   "execution_count": null,
   "id": "40137b5d",
   "metadata": {},
   "outputs": [],
   "source": [
    "height = [5,12,20,23,27,89,34,56,78,90]   # container \n",
    "\n",
    "def myFunc(x):    \n",
    "    if(x<=18):\n",
    "        return True \n",
    "    else : \n",
    "        return False \n",
    "    \n",
    "kids = list(filter(myFunc , ages)) \n",
    "print(kids)"
   ]
  },
  {
   "cell_type": "markdown",
   "id": "93d0dd2f",
   "metadata": {},
   "source": [
    "# REDUCE FUNCTION :"
   ]
  },
  {
   "cell_type": "code",
   "execution_count": 22,
   "id": "5ee3c53c",
   "metadata": {},
   "outputs": [
    {
     "name": "stdout",
     "output_type": "stream",
     "text": [
      "120\n"
     ]
    }
   ],
   "source": [
    "from functools import reduce\n",
    "\n",
    "def multiply(x, y):\n",
    "    return x * y\n",
    "\n",
    "numbers = [1, 2, 3, 4, 5]\n",
    "\n",
    "result = reduce(multiply, numbers)\n",
    "\n",
    "print(result)"
   ]
  },
  {
   "cell_type": "markdown",
   "id": "509a7952",
   "metadata": {},
   "source": [
    "# MAP FUNCTION :"
   ]
  },
  {
   "cell_type": "code",
   "execution_count": null,
   "id": "2b1e411c",
   "metadata": {},
   "outputs": [],
   "source": [
    "a = [3, '45', False]\n",
    "b = list(map(int , a))\n",
    "b"
   ]
  },
  {
   "cell_type": "code",
   "execution_count": null,
   "id": "5089b537",
   "metadata": {},
   "outputs": [],
   "source": []
  },
  {
   "cell_type": "markdown",
   "id": "c9bccd70",
   "metadata": {},
   "source": [
    "# Q.7 Difference between list and tuple? Please provide index() , insert() , append(), reverse() , pop() explain with examples ?"
   ]
  },
  {
   "cell_type": "markdown",
   "id": "f8b9a4a0",
   "metadata": {},
   "source": [
    "Difference Between LIST & TUPLE : \n",
    "\n",
    "The literal syntax of tuples is shown by parentheses () whereas the literal syntax of lists is shown by square brackets []"
   ]
  },
  {
   "cell_type": "markdown",
   "id": "5f6f5af7",
   "metadata": {},
   "source": [
    "# .index() :\n",
    "This function is used to find the index of the object"
   ]
  },
  {
   "cell_type": "code",
   "execution_count": 25,
   "id": "78013183",
   "metadata": {},
   "outputs": [
    {
     "data": {
      "text/plain": [
       "3"
      ]
     },
     "execution_count": 25,
     "metadata": {},
     "output_type": "execute_result"
    }
   ],
   "source": [
    "a = ['sam'  , 90 , 45.89 , 'kriti']\n",
    "a.index('kriti')"
   ]
  },
  {
   "cell_type": "markdown",
   "id": "cbe06391",
   "metadata": {},
   "source": [
    "# .insert() :\n",
    "\n",
    "This function is used to insert an object at the given indexing."
   ]
  },
  {
   "cell_type": "code",
   "execution_count": 34,
   "id": "0218d639",
   "metadata": {},
   "outputs": [
    {
     "name": "stdout",
     "output_type": "stream",
     "text": [
      "['sam', 90, 'rahul', 'kriti']\n",
      "['sam', 'rahul', 90, 'rahul', 'kriti']\n"
     ]
    }
   ],
   "source": [
    "a = ['sam' , 90 , 'rahul' , 'kriti']\n",
    "print(a)\n",
    "a.insert(1 , \"rahul\") \n",
    "print(a) "
   ]
  },
  {
   "cell_type": "markdown",
   "id": "a8901dd7",
   "metadata": {},
   "source": [
    "# .append() :\n",
    "\n",
    "This function is used to add an element in the last indexing of container ."
   ]
  },
  {
   "cell_type": "code",
   "execution_count": 35,
   "id": "d95cf55a",
   "metadata": {},
   "outputs": [
    {
     "name": "stdout",
     "output_type": "stream",
     "text": [
      "['sam', 98, 'mohit', 78.43]\n",
      "['sam', 98, 'mohit', 78.43, 'preeti']\n"
     ]
    }
   ],
   "source": [
    "a = ['sam' , 98 , 'mohit' , 78.43] \n",
    "print(a) \n",
    "a.append(\"preeti\")\n",
    "print(a) "
   ]
  },
  {
   "cell_type": "markdown",
   "id": "fb79a1dc",
   "metadata": {},
   "source": [
    "# .reverse() :\n",
    "\n",
    "This function is used to reverse an element present in the list"
   ]
  },
  {
   "cell_type": "code",
   "execution_count": 50,
   "id": "bea78ecd",
   "metadata": {},
   "outputs": [
    {
     "name": "stdout",
     "output_type": "stream",
     "text": [
      "['sam', 90, 'rahul', 'kriti']\n",
      "['kriti', 'rahul', 90, 'sam']\n"
     ]
    }
   ],
   "source": [
    "a = ['sam' , 90 , 'rahul' , 'kriti']\n",
    "print(a) \n",
    "a.reverse() \n",
    "print(a) "
   ]
  },
  {
   "cell_type": "markdown",
   "id": "d3aed039",
   "metadata": {},
   "source": [
    "# .pop() :\n",
    "    \n",
    "This function is used to delete the last element from the list"
   ]
  },
  {
   "cell_type": "code",
   "execution_count": 12,
   "id": "23104058",
   "metadata": {},
   "outputs": [
    {
     "name": "stdout",
     "output_type": "stream",
     "text": [
      "['sam', 90, 'rahul', 'kriti']\n",
      "['sam', 90, 'rahul']\n",
      "['sam', 90]\n"
     ]
    }
   ],
   "source": [
    "a = ['sam' , 90 , 'rahul' , 'kriti']\n",
    "print(a)\n",
    "a.pop() \n",
    "print(a)\n",
    "a.pop() \n",
    "print(a)"
   ]
  },
  {
   "cell_type": "code",
   "execution_count": null,
   "id": "84f42f10",
   "metadata": {},
   "outputs": [],
   "source": []
  },
  {
   "cell_type": "markdown",
   "id": "ee1be259",
   "metadata": {},
   "source": [
    "# Q.8 Difference between dictionary vs set? Please provide keys() , values() ,items() example of dictionary and union() , intersection() in sets ? Is FrozenSet is mutable or not ? \n",
    "Ans - \n",
    "\n",
    "Sets store unique elements, while dictionaries store related pieces of information. \n",
    "Sets are an unordered collection of unique elements, whereas a dictionary is an ordered collection of key-value pairs"
   ]
  },
  {
   "cell_type": "markdown",
   "id": "74f703e4",
   "metadata": {},
   "source": [
    "# .Union() :"
   ]
  },
  {
   "cell_type": "code",
   "execution_count": 3,
   "id": "0e4d3873",
   "metadata": {},
   "outputs": [
    {
     "name": "stdout",
     "output_type": "stream",
     "text": [
      "{'rahul', 'sam', 'karan', 'pooja'}\n"
     ]
    }
   ],
   "source": [
    "a = {'sam' , 'rahul' , 'pooja'}   #Key Output using Union in Set\n",
    "b = {'karan' , 'pooja'} \n",
    "c = a.union(b) \n",
    "print(c) "
   ]
  },
  {
   "cell_type": "code",
   "execution_count": 6,
   "id": "0652d15c",
   "metadata": {},
   "outputs": [
    {
     "name": "stdout",
     "output_type": "stream",
     "text": [
      "{1, 2, 3, 4, 5, 6, 7}\n"
     ]
    }
   ],
   "source": [
    "a = {1, 2, 3, 4, 5}               #values Output using Union in Set\n",
    "b = {3, 4, 5, 6, 7}\n",
    "c = a.union(b) \n",
    "print(c) "
   ]
  },
  {
   "cell_type": "code",
   "execution_count": 8,
   "id": "5340425b",
   "metadata": {},
   "outputs": [
    {
     "name": "stdout",
     "output_type": "stream",
     "text": [
      "{1, 2, 3, 4, 5, 6, 7, 'sam', 'karan', 'pooja', 'rahul'}\n"
     ]
    }
   ],
   "source": [
    "a = {1, 'sam' , 2, 3, 4, 5, 'rahul' , 'pooja'}    #items Output using Union in Set\n",
    "b = {3, 4, 'karan' , 'pooja', 5, 6, 7,}\n",
    "c = a.union(b) \n",
    "print(c) "
   ]
  },
  {
   "cell_type": "markdown",
   "id": "b03fd82d",
   "metadata": {},
   "source": [
    "# .intersection() :"
   ]
  },
  {
   "cell_type": "code",
   "execution_count": 5,
   "id": "7dca48ab",
   "metadata": {},
   "outputs": [
    {
     "name": "stdout",
     "output_type": "stream",
     "text": [
      "{'rahul', 'pooja'}\n"
     ]
    }
   ],
   "source": [
    "a = {'sam' , 'rahul' , 'pooja'}            #Key Output using intersection in Set\n",
    "b = {'karan' , 'pooja', 'rahul'} \n",
    "c = a.intersection(b) \n",
    "print(c) "
   ]
  },
  {
   "cell_type": "code",
   "execution_count": 7,
   "id": "99f98f49",
   "metadata": {},
   "outputs": [
    {
     "name": "stdout",
     "output_type": "stream",
     "text": [
      "{3, 4, 5}\n"
     ]
    }
   ],
   "source": [
    "a = {1, 2, 3, 4, 5}                       #values Output using intersection in Set\n",
    "b = {3, 4, 5, 6, 7}\n",
    "c = a.intersection(b) \n",
    "print(c) "
   ]
  },
  {
   "cell_type": "code",
   "execution_count": 10,
   "id": "17c95c5b",
   "metadata": {},
   "outputs": [
    {
     "name": "stdout",
     "output_type": "stream",
     "text": [
      "{3, 4, 5, 'pooja', 'rahul'}\n"
     ]
    }
   ],
   "source": [
    "a = {1, 'sam' , 2, 3, 4, 5, 'rahul' , 'pooja'}    #items Output using intersection in Set\n",
    "b = {3, 4, 'rahul' , 'pooja', 5, 6, 7,}\n",
    "c = a.intersection(b) \n",
    "print(c) "
   ]
  },
  {
   "cell_type": "markdown",
   "id": "e29e5291",
   "metadata": {},
   "source": [
    "# Is FrozenSet is mutable or not ?\n",
    "No, frozenset in Python is immutable. Once a frozenset is created, you cannot modify its elements by adding or removing elements. "
   ]
  },
  {
   "cell_type": "code",
   "execution_count": null,
   "id": "f106db55",
   "metadata": {},
   "outputs": [],
   "source": []
  },
  {
   "cell_type": "markdown",
   "id": "ef191fec",
   "metadata": {},
   "source": [
    "# Q.9 What are decorators? "
   ]
  },
  {
   "cell_type": "markdown",
   "id": "1b163b11",
   "metadata": {},
   "source": [
    "A decorator in Python is a function that takes another function as input and returns a new function that usually extends or modifies the behavior of the original function."
   ]
  },
  {
   "cell_type": "code",
   "execution_count": null,
   "id": "d962a348",
   "metadata": {},
   "outputs": [],
   "source": []
  },
  {
   "cell_type": "markdown",
   "id": "bd20bed7",
   "metadata": {},
   "source": [
    "# Q.10 What is list comprehension? Please provide example ?\n",
    "Ans -\n",
    "\n",
    " It allows you to create a new list by applying an expression to each item in an existing iterable (e.g., a list, tuple, or range) and optionally filtering the items based on a condition."
   ]
  },
  {
   "cell_type": "code",
   "execution_count": 163,
   "id": "bc8e5eb3",
   "metadata": {},
   "outputs": [
    {
     "data": {
      "text/plain": [
       "[0, 1, 4, 9, 16]"
      ]
     },
     "execution_count": 163,
     "metadata": {},
     "output_type": "execute_result"
    }
   ],
   "source": [
    "squares = [x**2 for x in range(5)]\n",
    "squares"
   ]
  },
  {
   "cell_type": "code",
   "execution_count": null,
   "id": "d30893fe",
   "metadata": {},
   "outputs": [],
   "source": []
  },
  {
   "cell_type": "markdown",
   "id": "d9b1b6f7",
   "metadata": {},
   "source": [
    "# Q.11 How do you create an array from a user defined list ?"
   ]
  },
  {
   "cell_type": "code",
   "execution_count": 150,
   "id": "e3f1979d",
   "metadata": {},
   "outputs": [
    {
     "name": "stdout",
     "output_type": "stream",
     "text": [
      "<class 'list'>\n"
     ]
    },
    {
     "data": {
      "text/plain": [
       "array([1, 2, 3, 4, 5])"
      ]
     },
     "execution_count": 150,
     "metadata": {},
     "output_type": "execute_result"
    }
   ],
   "source": [
    "import numpy as np\n",
    "\n",
    "user_defined_list = [1, 2, 3, 4, 5]\n",
    "print(type(user_defined_list))\n",
    "\n",
    "np.array(user)"
   ]
  },
  {
   "cell_type": "code",
   "execution_count": null,
   "id": "96cacc01",
   "metadata": {},
   "outputs": [],
   "source": []
  },
  {
   "cell_type": "markdown",
   "id": "d8d53076",
   "metadata": {},
   "source": [
    "# Q.12 Difference between hstack() vs vstack() with example ?"
   ]
  },
  {
   "cell_type": "markdown",
   "id": "cfabe12a",
   "metadata": {},
   "source": [
    "# hstack() :\n",
    "\n",
    "This function is used to stack arrays in a horizontal sequence"
   ]
  },
  {
   "cell_type": "code",
   "execution_count": 138,
   "id": "de79502e",
   "metadata": {
    "scrolled": true
   },
   "outputs": [
    {
     "name": "stdout",
     "output_type": "stream",
     "text": [
      "[1 2 3]\n",
      "[4 5 6]\n"
     ]
    },
    {
     "data": {
      "text/plain": [
       "array([1, 2, 3, 4, 5, 6])"
      ]
     },
     "execution_count": 138,
     "metadata": {},
     "output_type": "execute_result"
    }
   ],
   "source": [
    "array_1 = np.array([1, 2, 3])\n",
    "array_2 = np.array([4, 5, 6])\n",
    "\n",
    "print(array_1)\n",
    "print(array_2)\n",
    "\n",
    "hstack = np.hstack((array_1, array_2)) # Horizontal stack\n",
    "hstack"
   ]
  },
  {
   "cell_type": "markdown",
   "id": "2a90bd8f",
   "metadata": {},
   "source": [
    "# vstack() :\n",
    "\n",
    "This function is used to stack arrays in a vertical sequence"
   ]
  },
  {
   "cell_type": "code",
   "execution_count": 137,
   "id": "beae00d9",
   "metadata": {},
   "outputs": [
    {
     "name": "stdout",
     "output_type": "stream",
     "text": [
      "[1 2 3]\n",
      "[4 5 6]\n"
     ]
    },
    {
     "data": {
      "text/plain": [
       "array([[1, 2, 3],\n",
       "       [4, 5, 6]])"
      ]
     },
     "execution_count": 137,
     "metadata": {},
     "output_type": "execute_result"
    }
   ],
   "source": [
    "array_1 = np.array([1, 2, 3])\n",
    "array_2 = np.array([4, 5, 6])\n",
    "\n",
    "print(array_1)\n",
    "print(array_2)\n",
    "\n",
    "hstack = np.vstack((array_1, array_2)) # Horizontal stack\n",
    "hstack"
   ]
  },
  {
   "cell_type": "markdown",
   "id": "a483cf9e",
   "metadata": {},
   "source": [
    "# Q.13  What is Broadcasting in NumPy ? Please provide an example ? \n",
    "\n",
    "ANS- \n",
    "\n",
    "Broadcasting is a powerful feature that simplifies the syntax for performing operations on arrays with different shapes, making code more concise and readable."
   ]
  },
  {
   "cell_type": "code",
   "execution_count": 132,
   "id": "9aff27d2",
   "metadata": {},
   "outputs": [
    {
     "name": "stdout",
     "output_type": "stream",
     "text": [
      "Before Broadcsting Array: [1 2 3]\n",
      "\n",
      "Result after Broadcasting: [2 4 6]\n"
     ]
    }
   ],
   "source": [
    "import numpy as np\n",
    "\n",
    "a = np.array([1, 2, 3])\n",
    "\n",
    "scalar = 2\n",
    "\n",
    "\n",
    "result = a * scalar\n",
    "\n",
    "print(\"Before Broadcsting Array:\", a)\n",
    "\n",
    "print(\"\\nResult after Broadcasting:\", result)\n"
   ]
  },
  {
   "cell_type": "code",
   "execution_count": null,
   "id": "2432292a",
   "metadata": {},
   "outputs": [],
   "source": []
  },
  {
   "cell_type": "markdown",
   "id": "84b2586a",
   "metadata": {},
   "source": [
    "# Q.14 What is zeros() , ones() , eye() , diag() , randint() , rand() , seed(), linspace() , unique() in NumPy ? please provide explanation with example ? "
   ]
  },
  {
   "cell_type": "markdown",
   "id": "37cc81cd",
   "metadata": {},
   "source": [
    "# .zeros() : \n",
    "This function creates an array and fill all the values with zeros ."
   ]
  },
  {
   "cell_type": "code",
   "execution_count": 94,
   "id": "8755b047",
   "metadata": {},
   "outputs": [
    {
     "data": {
      "text/plain": [
       "array([[0., 0., 0.],\n",
       "       [0., 0., 0.],\n",
       "       [0., 0., 0.]])"
      ]
     },
     "execution_count": 94,
     "metadata": {},
     "output_type": "execute_result"
    }
   ],
   "source": [
    "import numpy as np \n",
    "a = np.zeros((3,3))\n",
    "a"
   ]
  },
  {
   "cell_type": "markdown",
   "id": "167cc0e3",
   "metadata": {},
   "source": [
    "# .ones() : \n",
    "This function creates an array and fill all the values with ones ."
   ]
  },
  {
   "cell_type": "code",
   "execution_count": 77,
   "id": "fc72f7ec",
   "metadata": {},
   "outputs": [
    {
     "data": {
      "text/plain": [
       "array([[1., 1., 1.],\n",
       "       [1., 1., 1.],\n",
       "       [1., 1., 1.]])"
      ]
     },
     "execution_count": 77,
     "metadata": {},
     "output_type": "execute_result"
    }
   ],
   "source": [
    "import numpy as np \n",
    "a = np.ones((3,3))\n",
    "a"
   ]
  },
  {
   "cell_type": "markdown",
   "id": "216ad18e",
   "metadata": {},
   "source": [
    "# .eye() : \n",
    "\n",
    "This function creates an array with all the digonal elements as 1 and rest are 0."
   ]
  },
  {
   "cell_type": "code",
   "execution_count": 87,
   "id": "5563b58c",
   "metadata": {},
   "outputs": [
    {
     "data": {
      "text/plain": [
       "array([[1., 0., 0.],\n",
       "       [0., 1., 0.],\n",
       "       [0., 0., 1.]])"
      ]
     },
     "execution_count": 87,
     "metadata": {},
     "output_type": "execute_result"
    }
   ],
   "source": [
    "import numpy as np \n",
    "a = np.eye(3)\n",
    "a"
   ]
  },
  {
   "cell_type": "markdown",
   "id": "14a5a78b",
   "metadata": {},
   "source": [
    "# .diag() \n",
    "\n",
    "This function creates an array in which we can pass our custom array at the digonal position . and rest all are the zeros ."
   ]
  },
  {
   "cell_type": "code",
   "execution_count": 85,
   "id": "b0ebb233",
   "metadata": {},
   "outputs": [
    {
     "data": {
      "text/plain": [
       "array([ 1, 56, 78, 90])"
      ]
     },
     "execution_count": 85,
     "metadata": {},
     "output_type": "execute_result"
    }
   ],
   "source": [
    "import numpy as np \n",
    "\n",
    "a = np.array([1,56,78,90])\n",
    "a\n",
    "b = np.diag(b)\n",
    "b"
   ]
  },
  {
   "cell_type": "markdown",
   "id": "a295213a",
   "metadata": {},
   "source": [
    "# .Randint() \n",
    "\n",
    "This function is used to generate a random number between a given range ."
   ]
  },
  {
   "cell_type": "code",
   "execution_count": 91,
   "id": "f79eccbf",
   "metadata": {},
   "outputs": [
    {
     "data": {
      "text/plain": [
       "array([4, 2, 7])"
      ]
     },
     "execution_count": 91,
     "metadata": {},
     "output_type": "execute_result"
    }
   ],
   "source": [
    "a = np.random.randint(1,10,3)\n",
    "a"
   ]
  },
  {
   "cell_type": "markdown",
   "id": "d19650a3",
   "metadata": {},
   "source": [
    "# . Rand() \n",
    "\n",
    "This function is used to generate a random number between 0 to 1"
   ]
  },
  {
   "cell_type": "code",
   "execution_count": 92,
   "id": "eaee1986",
   "metadata": {},
   "outputs": [
    {
     "data": {
      "text/plain": [
       "array([0.27908709, 0.21498076, 0.72477103, 0.32535976, 0.59767915])"
      ]
     },
     "execution_count": 92,
     "metadata": {},
     "output_type": "execute_result"
    }
   ],
   "source": [
    "a = np.random.rand(5)\n",
    "a"
   ]
  },
  {
   "cell_type": "markdown",
   "id": "d0ad0c56",
   "metadata": {},
   "source": [
    "# Seed Function()\n",
    "\n",
    "It fix our random data .  "
   ]
  },
  {
   "cell_type": "code",
   "execution_count": 95,
   "id": "a046bc56",
   "metadata": {},
   "outputs": [
    {
     "data": {
      "text/plain": [
       "array([9, 9, 7])"
      ]
     },
     "execution_count": 95,
     "metadata": {},
     "output_type": "execute_result"
    }
   ],
   "source": [
    "np.random.seed(2) \n",
    "a = np.random.randint(1,10,3)\n",
    "a"
   ]
  },
  {
   "cell_type": "markdown",
   "id": "19b00367",
   "metadata": {},
   "source": [
    "# LinSpace()\n",
    "\n",
    "This function returns value between a given range and with a same gap between consicutive elements ."
   ]
  },
  {
   "cell_type": "code",
   "execution_count": 96,
   "id": "4a616678",
   "metadata": {},
   "outputs": [
    {
     "data": {
      "text/plain": [
       "array([1.  , 1.25, 1.5 , 1.75, 2.  ])"
      ]
     },
     "execution_count": 96,
     "metadata": {},
     "output_type": "execute_result"
    }
   ],
   "source": [
    "a = np.linspace(1,2,5)   \n",
    "a"
   ]
  },
  {
   "cell_type": "markdown",
   "id": "31d68bb1",
   "metadata": {},
   "source": [
    "# .unique() :\n",
    "\n",
    "returns 3 array .\n",
    "\n",
    "A. The array with unique values .\n",
    "B. The array with respective index values .\n",
    "C. The array witth counting of frequency ."
   ]
  },
  {
   "cell_type": "code",
   "execution_count": 107,
   "id": "acbc13db",
   "metadata": {},
   "outputs": [
    {
     "name": "stdout",
     "output_type": "stream",
     "text": [
      "[10 20 10 30 10 40 20 50 20 60]\n"
     ]
    },
    {
     "data": {
      "text/plain": [
       "(array([10, 20, 30, 40, 50, 60]),\n",
       " array([0, 1, 3, 5, 7, 9], dtype=int64),\n",
       " array([3, 3, 1, 1, 1, 1], dtype=int64))"
      ]
     },
     "execution_count": 107,
     "metadata": {},
     "output_type": "execute_result"
    }
   ],
   "source": [
    "a = np.array([10,20,10,30,10,40,20,50,20,60]) \n",
    "print(a)\n",
    "\n",
    "np.unique(a , return_index = True , return_counts = True)"
   ]
  },
  {
   "cell_type": "code",
   "execution_count": null,
   "id": "7aef6e93",
   "metadata": {},
   "outputs": [],
   "source": []
  },
  {
   "cell_type": "markdown",
   "id": "ea58465c",
   "metadata": {},
   "source": [
    "# Q.15 How can you reshape your array in NumPy? What is argmin() and argmax() in NumPy ? Please explain with example ?"
   ]
  },
  {
   "cell_type": "code",
   "execution_count": 115,
   "id": "b677cd84",
   "metadata": {},
   "outputs": [
    {
     "data": {
      "text/plain": [
       "array([13,  5, 27, 16, 40, 47,  9, 46, 16, 42, 46,  9])"
      ]
     },
     "execution_count": 115,
     "metadata": {},
     "output_type": "execute_result"
    }
   ],
   "source": [
    "a = np.random.randint(1,50,12)\n",
    "a"
   ]
  },
  {
   "cell_type": "code",
   "execution_count": 116,
   "id": "b69e7669",
   "metadata": {},
   "outputs": [
    {
     "data": {
      "text/plain": [
       "array([[13,  5, 27, 16, 40, 47],\n",
       "       [ 9, 46, 16, 42, 46,  9]])"
      ]
     },
     "execution_count": 116,
     "metadata": {},
     "output_type": "execute_result"
    }
   ],
   "source": [
    "a.reshape(2,6)"
   ]
  },
  {
   "cell_type": "markdown",
   "id": "c5caabc9",
   "metadata": {},
   "source": [
    "# .argmax():\n",
    "\n",
    " is used to find the indices of the maximum values along a specified axis of an array."
   ]
  },
  {
   "cell_type": "code",
   "execution_count": 125,
   "id": "6a486c68",
   "metadata": {},
   "outputs": [
    {
     "data": {
      "text/plain": [
       "array([3, 1, 4, 1, 5, 9, 2, 6])"
      ]
     },
     "execution_count": 125,
     "metadata": {},
     "output_type": "execute_result"
    }
   ],
   "source": [
    "import numpy as np\n",
    "b = np.array([3, 1, 4, 1, 5, 9, 2, 6])\n",
    "b"
   ]
  },
  {
   "cell_type": "code",
   "execution_count": 123,
   "id": "a45c0898",
   "metadata": {},
   "outputs": [
    {
     "data": {
      "text/plain": [
       "3"
      ]
     },
     "execution_count": 123,
     "metadata": {},
     "output_type": "execute_result"
    }
   ],
   "source": [
    "np.argmax(b)"
   ]
  },
  {
   "cell_type": "markdown",
   "id": "78c617e5",
   "metadata": {},
   "source": [
    "# .argmin():\n",
    "\n",
    " is used to find the indices of the minimum values along a specified axis of an array."
   ]
  },
  {
   "cell_type": "code",
   "execution_count": 126,
   "id": "c976bd10",
   "metadata": {},
   "outputs": [
    {
     "data": {
      "text/plain": [
       "1"
      ]
     },
     "execution_count": 126,
     "metadata": {},
     "output_type": "execute_result"
    }
   ],
   "source": [
    "np.argmin(b)"
   ]
  }
 ],
 "metadata": {
  "kernelspec": {
   "display_name": "Python 3 (ipykernel)",
   "language": "python",
   "name": "python3"
  },
  "language_info": {
   "codemirror_mode": {
    "name": "ipython",
    "version": 3
   },
   "file_extension": ".py",
   "mimetype": "text/x-python",
   "name": "python",
   "nbconvert_exporter": "python",
   "pygments_lexer": "ipython3",
   "version": "3.11.5"
  }
 },
 "nbformat": 4,
 "nbformat_minor": 5
}
