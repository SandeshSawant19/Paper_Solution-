{
 "cells": [
  {
   "cell_type": "markdown",
   "id": "4262611c",
   "metadata": {},
   "source": [
    "# Q.1 What is Pandas ?\n",
    "Ans -\n",
    " \n",
    " \n",
    " Pandas is a Python library used for working with data sets. It has functions for analyzing, cleaning, exploring, and manipulating data."
   ]
  },
  {
   "cell_type": "code",
   "execution_count": null,
   "id": "008fc26b",
   "metadata": {},
   "outputs": [],
   "source": []
  },
  {
   "cell_type": "markdown",
   "id": "73e83d8a",
   "metadata": {},
   "source": [
    "# Q.2 Difference between series and dataframe ? "
   ]
  },
  {
   "cell_type": "markdown",
   "id": "307cc830",
   "metadata": {},
   "source": [
    "Series : \n",
    "    \n",
    "    1. Seties is 1 Dimensional.\n",
    "    2. It Can only contain one data type.\n",
    "    3. Series is Immutable"
   ]
  },
  {
   "cell_type": "markdown",
   "id": "f6aa5101",
   "metadata": {},
   "source": [
    "DataFrame:\n",
    "    \n",
    "    1. Seties is 2 Dimensional.\n",
    "    2. It Can only contain Multiple data type.\n",
    "    3. Series is Mmutable"
   ]
  },
  {
   "cell_type": "markdown",
   "id": "6ef942ab",
   "metadata": {},
   "source": [
    "# Q.3 Difference between loc and iloc ? "
   ]
  },
  {
   "cell_type": "markdown",
   "id": "e449d809",
   "metadata": {},
   "source": [
    "# df.loc : \n",
    "\n",
    "starting to end point include "
   ]
  },
  {
   "cell_type": "code",
   "execution_count": 35,
   "id": "85589080",
   "metadata": {},
   "outputs": [
    {
     "data": {
      "text/html": [
       "<div>\n",
       "<style scoped>\n",
       "    .dataframe tbody tr th:only-of-type {\n",
       "        vertical-align: middle;\n",
       "    }\n",
       "\n",
       "    .dataframe tbody tr th {\n",
       "        vertical-align: top;\n",
       "    }\n",
       "\n",
       "    .dataframe thead th {\n",
       "        text-align: right;\n",
       "    }\n",
       "</style>\n",
       "<table border=\"1\" class=\"dataframe\">\n",
       "  <thead>\n",
       "    <tr style=\"text-align: right;\">\n",
       "      <th></th>\n",
       "      <th>Unnamed: 0</th>\n",
       "      <th>emp_id</th>\n",
       "      <th>emp_name</th>\n",
       "      <th>emp_Hours</th>\n",
       "      <th>emp_salary</th>\n",
       "    </tr>\n",
       "  </thead>\n",
       "  <tbody>\n",
       "    <tr>\n",
       "      <th>0</th>\n",
       "      <td>0</td>\n",
       "      <td>1</td>\n",
       "      <td>sandesh</td>\n",
       "      <td>9</td>\n",
       "      <td>65000</td>\n",
       "    </tr>\n",
       "    <tr>\n",
       "      <th>1</th>\n",
       "      <td>1</td>\n",
       "      <td>2</td>\n",
       "      <td>vinit</td>\n",
       "      <td>9</td>\n",
       "      <td>65000</td>\n",
       "    </tr>\n",
       "    <tr>\n",
       "      <th>2</th>\n",
       "      <td>2</td>\n",
       "      <td>3</td>\n",
       "      <td>mansi</td>\n",
       "      <td>9</td>\n",
       "      <td>65000</td>\n",
       "    </tr>\n",
       "    <tr>\n",
       "      <th>3</th>\n",
       "      <td>3</td>\n",
       "      <td>4</td>\n",
       "      <td>kunal</td>\n",
       "      <td>8</td>\n",
       "      <td>65000</td>\n",
       "    </tr>\n",
       "    <tr>\n",
       "      <th>4</th>\n",
       "      <td>4</td>\n",
       "      <td>5</td>\n",
       "      <td>prjyot</td>\n",
       "      <td>9</td>\n",
       "      <td>65000</td>\n",
       "    </tr>\n",
       "    <tr>\n",
       "      <th>5</th>\n",
       "      <td>5</td>\n",
       "      <td>6</td>\n",
       "      <td>pratik</td>\n",
       "      <td>9</td>\n",
       "      <td>65000</td>\n",
       "    </tr>\n",
       "    <tr>\n",
       "      <th>6</th>\n",
       "      <td>6</td>\n",
       "      <td>7</td>\n",
       "      <td>raja</td>\n",
       "      <td>9</td>\n",
       "      <td>35000</td>\n",
       "    </tr>\n",
       "  </tbody>\n",
       "</table>\n",
       "</div>"
      ],
      "text/plain": [
       "   Unnamed: 0  emp_id emp_name  emp_Hours  emp_salary\n",
       "0           0       1  sandesh          9       65000\n",
       "1           1       2    vinit          9       65000\n",
       "2           2       3    mansi          9       65000\n",
       "3           3       4    kunal          8       65000\n",
       "4           4       5   prjyot          9       65000\n",
       "5           5       6   pratik          9       65000\n",
       "6           6       7     raja          9       35000"
      ]
     },
     "execution_count": 35,
     "metadata": {},
     "output_type": "execute_result"
    }
   ],
   "source": [
    "df = pd.read_csv(\"C:\\\\Users\\\\VINIT SANDESH\\\\Desktop\\\\DATA ANALYTICS\\\\PYTHON\\\\PROJECT DATASETS\\\\emp.csv\")\n",
    "df"
   ]
  },
  {
   "cell_type": "code",
   "execution_count": 36,
   "id": "fa8ab6dd",
   "metadata": {},
   "outputs": [
    {
     "data": {
      "text/html": [
       "<div>\n",
       "<style scoped>\n",
       "    .dataframe tbody tr th:only-of-type {\n",
       "        vertical-align: middle;\n",
       "    }\n",
       "\n",
       "    .dataframe tbody tr th {\n",
       "        vertical-align: top;\n",
       "    }\n",
       "\n",
       "    .dataframe thead th {\n",
       "        text-align: right;\n",
       "    }\n",
       "</style>\n",
       "<table border=\"1\" class=\"dataframe\">\n",
       "  <thead>\n",
       "    <tr style=\"text-align: right;\">\n",
       "      <th></th>\n",
       "      <th>emp_name</th>\n",
       "      <th>emp_salary</th>\n",
       "    </tr>\n",
       "  </thead>\n",
       "  <tbody>\n",
       "    <tr>\n",
       "      <th>0</th>\n",
       "      <td>sandesh</td>\n",
       "      <td>65000</td>\n",
       "    </tr>\n",
       "    <tr>\n",
       "      <th>1</th>\n",
       "      <td>vinit</td>\n",
       "      <td>65000</td>\n",
       "    </tr>\n",
       "    <tr>\n",
       "      <th>2</th>\n",
       "      <td>mansi</td>\n",
       "      <td>65000</td>\n",
       "    </tr>\n",
       "  </tbody>\n",
       "</table>\n",
       "</div>"
      ],
      "text/plain": [
       "  emp_name  emp_salary\n",
       "0  sandesh       65000\n",
       "1    vinit       65000\n",
       "2    mansi       65000"
      ]
     },
     "execution_count": 36,
     "metadata": {},
     "output_type": "execute_result"
    }
   ],
   "source": [
    "df.loc[:2 , ['emp_name','emp_salary']]"
   ]
  },
  {
   "cell_type": "markdown",
   "id": "cd686ea8",
   "metadata": {},
   "source": [
    "# df.iloc : \n",
    "\n",
    "starting point include but last point not include . "
   ]
  },
  {
   "cell_type": "code",
   "execution_count": 37,
   "id": "6a266858",
   "metadata": {},
   "outputs": [
    {
     "data": {
      "text/html": [
       "<div>\n",
       "<style scoped>\n",
       "    .dataframe tbody tr th:only-of-type {\n",
       "        vertical-align: middle;\n",
       "    }\n",
       "\n",
       "    .dataframe tbody tr th {\n",
       "        vertical-align: top;\n",
       "    }\n",
       "\n",
       "    .dataframe thead th {\n",
       "        text-align: right;\n",
       "    }\n",
       "</style>\n",
       "<table border=\"1\" class=\"dataframe\">\n",
       "  <thead>\n",
       "    <tr style=\"text-align: right;\">\n",
       "      <th></th>\n",
       "      <th>Unnamed: 0</th>\n",
       "      <th>emp_id</th>\n",
       "      <th>emp_name</th>\n",
       "      <th>emp_Hours</th>\n",
       "    </tr>\n",
       "  </thead>\n",
       "  <tbody>\n",
       "    <tr>\n",
       "      <th>0</th>\n",
       "      <td>0</td>\n",
       "      <td>1</td>\n",
       "      <td>sandesh</td>\n",
       "      <td>9</td>\n",
       "    </tr>\n",
       "    <tr>\n",
       "      <th>1</th>\n",
       "      <td>1</td>\n",
       "      <td>2</td>\n",
       "      <td>vinit</td>\n",
       "      <td>9</td>\n",
       "    </tr>\n",
       "    <tr>\n",
       "      <th>2</th>\n",
       "      <td>2</td>\n",
       "      <td>3</td>\n",
       "      <td>mansi</td>\n",
       "      <td>9</td>\n",
       "    </tr>\n",
       "    <tr>\n",
       "      <th>3</th>\n",
       "      <td>3</td>\n",
       "      <td>4</td>\n",
       "      <td>kunal</td>\n",
       "      <td>8</td>\n",
       "    </tr>\n",
       "  </tbody>\n",
       "</table>\n",
       "</div>"
      ],
      "text/plain": [
       "   Unnamed: 0  emp_id emp_name  emp_Hours\n",
       "0           0       1  sandesh          9\n",
       "1           1       2    vinit          9\n",
       "2           2       3    mansi          9\n",
       "3           3       4    kunal          8"
      ]
     },
     "execution_count": 37,
     "metadata": {},
     "output_type": "execute_result"
    }
   ],
   "source": [
    "df.iloc[:4 , [0,1,2,3]]"
   ]
  },
  {
   "cell_type": "markdown",
   "id": "aab758f6",
   "metadata": {},
   "source": [
    "# Q.4 what does value_counts() ? \n",
    "Ans - \n",
    "\n",
    "\n",
    "This method is particularly useful for understanding the distribution of values within a column."
   ]
  },
  {
   "cell_type": "markdown",
   "id": "cb9d0eb2",
   "metadata": {},
   "source": [
    "# EXAMPLE 1:"
   ]
  },
  {
   "cell_type": "code",
   "execution_count": 32,
   "id": "449e74b2",
   "metadata": {},
   "outputs": [
    {
     "data": {
      "text/html": [
       "<div>\n",
       "<style scoped>\n",
       "    .dataframe tbody tr th:only-of-type {\n",
       "        vertical-align: middle;\n",
       "    }\n",
       "\n",
       "    .dataframe tbody tr th {\n",
       "        vertical-align: top;\n",
       "    }\n",
       "\n",
       "    .dataframe thead th {\n",
       "        text-align: right;\n",
       "    }\n",
       "</style>\n",
       "<table border=\"1\" class=\"dataframe\">\n",
       "  <thead>\n",
       "    <tr style=\"text-align: right;\">\n",
       "      <th></th>\n",
       "      <th>Unnamed: 0</th>\n",
       "      <th>emp_id</th>\n",
       "      <th>emp_name</th>\n",
       "      <th>emp_Hours</th>\n",
       "      <th>emp_salary</th>\n",
       "    </tr>\n",
       "  </thead>\n",
       "  <tbody>\n",
       "    <tr>\n",
       "      <th>0</th>\n",
       "      <td>0</td>\n",
       "      <td>1</td>\n",
       "      <td>sandesh</td>\n",
       "      <td>9</td>\n",
       "      <td>65000</td>\n",
       "    </tr>\n",
       "    <tr>\n",
       "      <th>1</th>\n",
       "      <td>1</td>\n",
       "      <td>2</td>\n",
       "      <td>vinit</td>\n",
       "      <td>9</td>\n",
       "      <td>65000</td>\n",
       "    </tr>\n",
       "    <tr>\n",
       "      <th>2</th>\n",
       "      <td>2</td>\n",
       "      <td>3</td>\n",
       "      <td>mansi</td>\n",
       "      <td>9</td>\n",
       "      <td>65000</td>\n",
       "    </tr>\n",
       "    <tr>\n",
       "      <th>3</th>\n",
       "      <td>3</td>\n",
       "      <td>4</td>\n",
       "      <td>kunal</td>\n",
       "      <td>8</td>\n",
       "      <td>65000</td>\n",
       "    </tr>\n",
       "    <tr>\n",
       "      <th>4</th>\n",
       "      <td>4</td>\n",
       "      <td>5</td>\n",
       "      <td>prjyot</td>\n",
       "      <td>9</td>\n",
       "      <td>65000</td>\n",
       "    </tr>\n",
       "    <tr>\n",
       "      <th>5</th>\n",
       "      <td>5</td>\n",
       "      <td>6</td>\n",
       "      <td>pratik</td>\n",
       "      <td>9</td>\n",
       "      <td>65000</td>\n",
       "    </tr>\n",
       "    <tr>\n",
       "      <th>6</th>\n",
       "      <td>6</td>\n",
       "      <td>7</td>\n",
       "      <td>raja</td>\n",
       "      <td>9</td>\n",
       "      <td>35000</td>\n",
       "    </tr>\n",
       "  </tbody>\n",
       "</table>\n",
       "</div>"
      ],
      "text/plain": [
       "   Unnamed: 0  emp_id emp_name  emp_Hours  emp_salary\n",
       "0           0       1  sandesh          9       65000\n",
       "1           1       2    vinit          9       65000\n",
       "2           2       3    mansi          9       65000\n",
       "3           3       4    kunal          8       65000\n",
       "4           4       5   prjyot          9       65000\n",
       "5           5       6   pratik          9       65000\n",
       "6           6       7     raja          9       35000"
      ]
     },
     "execution_count": 32,
     "metadata": {},
     "output_type": "execute_result"
    }
   ],
   "source": [
    "df = pd.read_csv(\"C:\\\\Users\\\\VINIT SANDESH\\\\Desktop\\\\DATA ANALYTICS\\\\PYTHON\\\\PROJECT DATASETS\\\\emp.csv\")\n",
    "df"
   ]
  },
  {
   "cell_type": "code",
   "execution_count": 33,
   "id": "374855be",
   "metadata": {
    "scrolled": true
   },
   "outputs": [
    {
     "data": {
      "text/plain": [
       "emp_name\n",
       "sandesh    1\n",
       "vinit      1\n",
       "mansi      1\n",
       "kunal      1\n",
       "prjyot     1\n",
       "pratik     1\n",
       "raja       1\n",
       "Name: count, dtype: int64"
      ]
     },
     "execution_count": 33,
     "metadata": {},
     "output_type": "execute_result"
    }
   ],
   "source": [
    "df['emp_name'].value_counts()"
   ]
  },
  {
   "cell_type": "markdown",
   "id": "4fd7d2ff",
   "metadata": {},
   "source": [
    "# EXAMPLE 2:"
   ]
  },
  {
   "cell_type": "code",
   "execution_count": 34,
   "id": "1f42c5b6",
   "metadata": {},
   "outputs": [
    {
     "data": {
      "text/plain": [
       "Category\n",
       "A    3\n",
       "B    3\n",
       "C    2\n",
       "Name: count, dtype: int64"
      ]
     },
     "execution_count": 34,
     "metadata": {},
     "output_type": "execute_result"
    }
   ],
   "source": [
    "data = {'Category': ['A', 'B', 'A', 'C', 'A', 'B', 'B', 'C']}\n",
    "df = pd.DataFrame(data)\n",
    "\n",
    "\n",
    "df['Category'].value_counts()"
   ]
  },
  {
   "cell_type": "markdown",
   "id": "d1d4724e",
   "metadata": {},
   "source": [
    "# Q.5 how do you handle missing values using pandas ?"
   ]
  },
  {
   "cell_type": "code",
   "execution_count": 12,
   "id": "761ba07a",
   "metadata": {},
   "outputs": [],
   "source": [
    "# Drop rows with missing values\n",
    "df.isnull()\n",
    "df = df.dropna()"
   ]
  },
  {
   "cell_type": "code",
   "execution_count": 21,
   "id": "dd480639",
   "metadata": {},
   "outputs": [
    {
     "data": {
      "text/html": [
       "<div>\n",
       "<style scoped>\n",
       "    .dataframe tbody tr th:only-of-type {\n",
       "        vertical-align: middle;\n",
       "    }\n",
       "\n",
       "    .dataframe tbody tr th {\n",
       "        vertical-align: top;\n",
       "    }\n",
       "\n",
       "    .dataframe thead th {\n",
       "        text-align: right;\n",
       "    }\n",
       "</style>\n",
       "<table border=\"1\" class=\"dataframe\">\n",
       "  <thead>\n",
       "    <tr style=\"text-align: right;\">\n",
       "      <th></th>\n",
       "      <th>Unnamed: 0</th>\n",
       "      <th>emp_id</th>\n",
       "      <th>emp_name</th>\n",
       "      <th>emp_Hours</th>\n",
       "      <th>emp_salary</th>\n",
       "    </tr>\n",
       "  </thead>\n",
       "  <tbody>\n",
       "    <tr>\n",
       "      <th>0</th>\n",
       "      <td>0</td>\n",
       "      <td>1</td>\n",
       "      <td>sandesh</td>\n",
       "      <td>9</td>\n",
       "      <td>65000</td>\n",
       "    </tr>\n",
       "    <tr>\n",
       "      <th>1</th>\n",
       "      <td>1</td>\n",
       "      <td>2</td>\n",
       "      <td>vinit</td>\n",
       "      <td>9</td>\n",
       "      <td>65000</td>\n",
       "    </tr>\n",
       "    <tr>\n",
       "      <th>2</th>\n",
       "      <td>2</td>\n",
       "      <td>3</td>\n",
       "      <td>mansi</td>\n",
       "      <td>9</td>\n",
       "      <td>65000</td>\n",
       "    </tr>\n",
       "    <tr>\n",
       "      <th>3</th>\n",
       "      <td>3</td>\n",
       "      <td>4</td>\n",
       "      <td>kunal</td>\n",
       "      <td>8</td>\n",
       "      <td>65000</td>\n",
       "    </tr>\n",
       "    <tr>\n",
       "      <th>4</th>\n",
       "      <td>4</td>\n",
       "      <td>5</td>\n",
       "      <td>prjyot</td>\n",
       "      <td>9</td>\n",
       "      <td>65000</td>\n",
       "    </tr>\n",
       "  </tbody>\n",
       "</table>\n",
       "</div>"
      ],
      "text/plain": [
       "   Unnamed: 0  emp_id emp_name  emp_Hours  emp_salary\n",
       "0           0       1  sandesh          9       65000\n",
       "1           1       2    vinit          9       65000\n",
       "2           2       3    mansi          9       65000\n",
       "3           3       4    kunal          8       65000\n",
       "4           4       5   prjyot          9       65000"
      ]
     },
     "execution_count": 21,
     "metadata": {},
     "output_type": "execute_result"
    }
   ],
   "source": [
    "df = pd.read_csv(\"C:\\\\Users\\\\VINIT SANDESH\\\\Desktop\\\\DATA ANALYTICS\\\\PYTHON\\\\PROJECT DATASETS\\\\emp.csv\")\n",
    "df.head()"
   ]
  },
  {
   "cell_type": "code",
   "execution_count": 28,
   "id": "443d3c4d",
   "metadata": {},
   "outputs": [
    {
     "data": {
      "text/html": [
       "<div>\n",
       "<style scoped>\n",
       "    .dataframe tbody tr th:only-of-type {\n",
       "        vertical-align: middle;\n",
       "    }\n",
       "\n",
       "    .dataframe tbody tr th {\n",
       "        vertical-align: top;\n",
       "    }\n",
       "\n",
       "    .dataframe thead th {\n",
       "        text-align: right;\n",
       "    }\n",
       "</style>\n",
       "<table border=\"1\" class=\"dataframe\">\n",
       "  <thead>\n",
       "    <tr style=\"text-align: right;\">\n",
       "      <th></th>\n",
       "      <th>Unnamed: 0</th>\n",
       "      <th>emp_id</th>\n",
       "      <th>emp_name</th>\n",
       "      <th>emp_Hours</th>\n",
       "      <th>emp_salary</th>\n",
       "    </tr>\n",
       "  </thead>\n",
       "  <tbody>\n",
       "    <tr>\n",
       "      <th>0</th>\n",
       "      <td>0</td>\n",
       "      <td>1</td>\n",
       "      <td>sandesh</td>\n",
       "      <td>9</td>\n",
       "      <td>65000.0</td>\n",
       "    </tr>\n",
       "    <tr>\n",
       "      <th>1</th>\n",
       "      <td>1</td>\n",
       "      <td>2</td>\n",
       "      <td>vinit</td>\n",
       "      <td>9</td>\n",
       "      <td>NaN</td>\n",
       "    </tr>\n",
       "    <tr>\n",
       "      <th>2</th>\n",
       "      <td>2</td>\n",
       "      <td>3</td>\n",
       "      <td>mansi</td>\n",
       "      <td>9</td>\n",
       "      <td>NaN</td>\n",
       "    </tr>\n",
       "    <tr>\n",
       "      <th>3</th>\n",
       "      <td>3</td>\n",
       "      <td>4</td>\n",
       "      <td>kunal</td>\n",
       "      <td>8</td>\n",
       "      <td>65000.0</td>\n",
       "    </tr>\n",
       "    <tr>\n",
       "      <th>4</th>\n",
       "      <td>4</td>\n",
       "      <td>5</td>\n",
       "      <td>prjyot</td>\n",
       "      <td>9</td>\n",
       "      <td>65000.0</td>\n",
       "    </tr>\n",
       "    <tr>\n",
       "      <th>5</th>\n",
       "      <td>5</td>\n",
       "      <td>6</td>\n",
       "      <td>pratik</td>\n",
       "      <td>9</td>\n",
       "      <td>65000.0</td>\n",
       "    </tr>\n",
       "    <tr>\n",
       "      <th>6</th>\n",
       "      <td>6</td>\n",
       "      <td>7</td>\n",
       "      <td>raja</td>\n",
       "      <td>9</td>\n",
       "      <td>35000.0</td>\n",
       "    </tr>\n",
       "  </tbody>\n",
       "</table>\n",
       "</div>"
      ],
      "text/plain": [
       "   Unnamed: 0  emp_id emp_name  emp_Hours  emp_salary\n",
       "0           0       1  sandesh          9     65000.0\n",
       "1           1       2    vinit          9         NaN\n",
       "2           2       3    mansi          9         NaN\n",
       "3           3       4    kunal          8     65000.0\n",
       "4           4       5   prjyot          9     65000.0\n",
       "5           5       6   pratik          9     65000.0\n",
       "6           6       7     raja          9     35000.0"
      ]
     },
     "execution_count": 28,
     "metadata": {},
     "output_type": "execute_result"
    }
   ],
   "source": [
    "df['emp_salary'][1:3] = None\n",
    "df"
   ]
  },
  {
   "cell_type": "code",
   "execution_count": 29,
   "id": "b44248ca",
   "metadata": {},
   "outputs": [
    {
     "data": {
      "text/plain": [
       "Unnamed: 0    0\n",
       "emp_id        0\n",
       "emp_name      0\n",
       "emp_Hours     0\n",
       "emp_salary    2\n",
       "dtype: int64"
      ]
     },
     "execution_count": 29,
     "metadata": {},
     "output_type": "execute_result"
    }
   ],
   "source": [
    "df.isnull().sum()"
   ]
  },
  {
   "cell_type": "code",
   "execution_count": 31,
   "id": "c6ed1028",
   "metadata": {},
   "outputs": [
    {
     "data": {
      "text/html": [
       "<div>\n",
       "<style scoped>\n",
       "    .dataframe tbody tr th:only-of-type {\n",
       "        vertical-align: middle;\n",
       "    }\n",
       "\n",
       "    .dataframe tbody tr th {\n",
       "        vertical-align: top;\n",
       "    }\n",
       "\n",
       "    .dataframe thead th {\n",
       "        text-align: right;\n",
       "    }\n",
       "</style>\n",
       "<table border=\"1\" class=\"dataframe\">\n",
       "  <thead>\n",
       "    <tr style=\"text-align: right;\">\n",
       "      <th></th>\n",
       "      <th>Unnamed: 0</th>\n",
       "      <th>emp_id</th>\n",
       "      <th>emp_name</th>\n",
       "      <th>emp_Hours</th>\n",
       "      <th>emp_salary</th>\n",
       "    </tr>\n",
       "  </thead>\n",
       "  <tbody>\n",
       "    <tr>\n",
       "      <th>0</th>\n",
       "      <td>0</td>\n",
       "      <td>1</td>\n",
       "      <td>sandesh</td>\n",
       "      <td>9</td>\n",
       "      <td>65000.0</td>\n",
       "    </tr>\n",
       "    <tr>\n",
       "      <th>3</th>\n",
       "      <td>3</td>\n",
       "      <td>4</td>\n",
       "      <td>kunal</td>\n",
       "      <td>8</td>\n",
       "      <td>65000.0</td>\n",
       "    </tr>\n",
       "    <tr>\n",
       "      <th>4</th>\n",
       "      <td>4</td>\n",
       "      <td>5</td>\n",
       "      <td>prjyot</td>\n",
       "      <td>9</td>\n",
       "      <td>65000.0</td>\n",
       "    </tr>\n",
       "    <tr>\n",
       "      <th>5</th>\n",
       "      <td>5</td>\n",
       "      <td>6</td>\n",
       "      <td>pratik</td>\n",
       "      <td>9</td>\n",
       "      <td>65000.0</td>\n",
       "    </tr>\n",
       "    <tr>\n",
       "      <th>6</th>\n",
       "      <td>6</td>\n",
       "      <td>7</td>\n",
       "      <td>raja</td>\n",
       "      <td>9</td>\n",
       "      <td>35000.0</td>\n",
       "    </tr>\n",
       "  </tbody>\n",
       "</table>\n",
       "</div>"
      ],
      "text/plain": [
       "   Unnamed: 0  emp_id emp_name  emp_Hours  emp_salary\n",
       "0           0       1  sandesh          9     65000.0\n",
       "3           3       4    kunal          8     65000.0\n",
       "4           4       5   prjyot          9     65000.0\n",
       "5           5       6   pratik          9     65000.0\n",
       "6           6       7     raja          9     35000.0"
      ]
     },
     "execution_count": 31,
     "metadata": {},
     "output_type": "execute_result"
    }
   ],
   "source": [
    "df.dropna()"
   ]
  },
  {
   "cell_type": "markdown",
   "id": "e709c112",
   "metadata": {},
   "source": [
    "# Q.6 How do you merge 2 tables using pandas ?"
   ]
  },
  {
   "cell_type": "code",
   "execution_count": 17,
   "id": "fffc3b3e",
   "metadata": {},
   "outputs": [
    {
     "name": "stdout",
     "output_type": "stream",
     "text": [
      "   ID     Name  Age\n",
      "0   1  Sandesh   26\n",
      "1   2    Mansi   18\n",
      "2   3    Vinit   24\n"
     ]
    }
   ],
   "source": [
    "import pandas as pd\n",
    "\n",
    " \n",
    "df1 = pd.DataFrame({'ID': [1, 2, 3], 'Name': ['Sandesh', 'Mansi', 'Vinit']})\n",
    "df2 = pd.DataFrame({'ID': [1, 2, 3], 'Age': [26, 18, 24]})\n",
    "\n",
    " \n",
    "merged_df = pd.merge(df1, df2)\n",
    "\n",
    "print(merged_df)\n"
   ]
  },
  {
   "cell_type": "code",
   "execution_count": null,
   "id": "aa565c1f",
   "metadata": {},
   "outputs": [],
   "source": []
  },
  {
   "cell_type": "markdown",
   "id": "920eee93",
   "metadata": {},
   "source": [
    "# Q.7 How do you connect jupyter notebook to mysql ? "
   ]
  },
  {
   "cell_type": "code",
   "execution_count": 38,
   "id": "ef32804c",
   "metadata": {},
   "outputs": [
    {
     "name": "stdout",
     "output_type": "stream",
     "text": [
      "Defaulting to user installation because normal site-packages is not writeable\n",
      "Requirement already satisfied: mysql.connector in c:\\users\\vinit sandesh\\appdata\\roaming\\python\\python311\\site-packages (2.2.9)\n"
     ]
    }
   ],
   "source": [
    "!pip install mysql.connector"
   ]
  },
  {
   "cell_type": "code",
   "execution_count": 40,
   "id": "11a3c4a7",
   "metadata": {},
   "outputs": [],
   "source": [
    "import mysql.connector"
   ]
  },
  {
   "cell_type": "code",
   "execution_count": 41,
   "id": "a64917ab",
   "metadata": {},
   "outputs": [],
   "source": [
    "conn = mysql.connector.connect(host = 'localhost' , \n",
    "                             user = 'root',\n",
    "                             password = '', \n",
    "                             database = 'sandesh')"
   ]
  },
  {
   "cell_type": "code",
   "execution_count": 42,
   "id": "b8e1bc86",
   "metadata": {},
   "outputs": [],
   "source": [
    "import pandas as pd "
   ]
  },
  {
   "cell_type": "code",
   "execution_count": 43,
   "id": "72b918fe",
   "metadata": {},
   "outputs": [
    {
     "name": "stderr",
     "output_type": "stream",
     "text": [
      "C:\\Users\\VINIT SANDESH\\AppData\\Local\\Temp\\ipykernel_7740\\3947240027.py:1: UserWarning: pandas only supports SQLAlchemy connectable (engine/connection) or database string URI or sqlite3 DBAPI2 connection. Other DBAPI2 objects are not tested. Please consider using SQLAlchemy.\n",
      "  pd.read_sql_query(\"SELECT * FROM  products\" , conn)\n"
     ]
    },
    {
     "data": {
      "text/html": [
       "<div>\n",
       "<style scoped>\n",
       "    .dataframe tbody tr th:only-of-type {\n",
       "        vertical-align: middle;\n",
       "    }\n",
       "\n",
       "    .dataframe tbody tr th {\n",
       "        vertical-align: top;\n",
       "    }\n",
       "\n",
       "    .dataframe thead th {\n",
       "        text-align: right;\n",
       "    }\n",
       "</style>\n",
       "<table border=\"1\" class=\"dataframe\">\n",
       "  <thead>\n",
       "    <tr style=\"text-align: right;\">\n",
       "      <th></th>\n",
       "      <th>ProductId</th>\n",
       "      <th>ProductName</th>\n",
       "      <th>Price</th>\n",
       "      <th>Catogory</th>\n",
       "    </tr>\n",
       "  </thead>\n",
       "  <tbody>\n",
       "    <tr>\n",
       "      <th>0</th>\n",
       "      <td>1</td>\n",
       "      <td>ProductA</td>\n",
       "      <td>25.99</td>\n",
       "      <td>Electronics</td>\n",
       "    </tr>\n",
       "    <tr>\n",
       "      <th>1</th>\n",
       "      <td>2</td>\n",
       "      <td>ProductB</td>\n",
       "      <td>19.78</td>\n",
       "      <td>Clothing</td>\n",
       "    </tr>\n",
       "    <tr>\n",
       "      <th>2</th>\n",
       "      <td>3</td>\n",
       "      <td>ProductC</td>\n",
       "      <td>10.56</td>\n",
       "      <td>Home&amp;Garden</td>\n",
       "    </tr>\n",
       "    <tr>\n",
       "      <th>3</th>\n",
       "      <td>4</td>\n",
       "      <td>ProductD</td>\n",
       "      <td>12.90</td>\n",
       "      <td>Electronics</td>\n",
       "    </tr>\n",
       "    <tr>\n",
       "      <th>4</th>\n",
       "      <td>5</td>\n",
       "      <td>ProductE</td>\n",
       "      <td>13.65</td>\n",
       "      <td>Clothing</td>\n",
       "    </tr>\n",
       "    <tr>\n",
       "      <th>5</th>\n",
       "      <td>6</td>\n",
       "      <td>ProductF</td>\n",
       "      <td>15.87</td>\n",
       "      <td>Home&amp;Garden</td>\n",
       "    </tr>\n",
       "    <tr>\n",
       "      <th>6</th>\n",
       "      <td>7</td>\n",
       "      <td>ProductG</td>\n",
       "      <td>76.45</td>\n",
       "      <td>Electronics</td>\n",
       "    </tr>\n",
       "    <tr>\n",
       "      <th>7</th>\n",
       "      <td>8</td>\n",
       "      <td>ProductH</td>\n",
       "      <td>34.90</td>\n",
       "      <td>Clothing</td>\n",
       "    </tr>\n",
       "  </tbody>\n",
       "</table>\n",
       "</div>"
      ],
      "text/plain": [
       "   ProductId ProductName  Price     Catogory\n",
       "0          1    ProductA  25.99  Electronics\n",
       "1          2    ProductB  19.78     Clothing\n",
       "2          3    ProductC  10.56  Home&Garden\n",
       "3          4    ProductD  12.90  Electronics\n",
       "4          5    ProductE  13.65     Clothing\n",
       "5          6    ProductF  15.87  Home&Garden\n",
       "6          7    ProductG  76.45  Electronics\n",
       "7          8    ProductH  34.90     Clothing"
      ]
     },
     "execution_count": 43,
     "metadata": {},
     "output_type": "execute_result"
    }
   ],
   "source": [
    "pd.read_sql_query(\"SELECT * FROM  products\" , conn)"
   ]
  },
  {
   "cell_type": "code",
   "execution_count": null,
   "id": "20b4ad86",
   "metadata": {},
   "outputs": [],
   "source": []
  },
  {
   "cell_type": "markdown",
   "id": "e722ee17",
   "metadata": {},
   "source": [
    "# Q.8 What does group by in pandas ? "
   ]
  },
  {
   "cell_type": "markdown",
   "id": "a19ec5b8",
   "metadata": {},
   "source": [
    " groupby function is used to split a DataFrame into groups based on some criteria and then apply a function to each group independently."
   ]
  },
  {
   "cell_type": "code",
   "execution_count": 1,
   "id": "4f7334c5",
   "metadata": {},
   "outputs": [
    {
     "data": {
      "text/html": [
       "<div>\n",
       "<style scoped>\n",
       "    .dataframe tbody tr th:only-of-type {\n",
       "        vertical-align: middle;\n",
       "    }\n",
       "\n",
       "    .dataframe tbody tr th {\n",
       "        vertical-align: top;\n",
       "    }\n",
       "\n",
       "    .dataframe thead th {\n",
       "        text-align: right;\n",
       "    }\n",
       "</style>\n",
       "<table border=\"1\" class=\"dataframe\">\n",
       "  <thead>\n",
       "    <tr style=\"text-align: right;\">\n",
       "      <th></th>\n",
       "      <th>Value</th>\n",
       "    </tr>\n",
       "    <tr>\n",
       "      <th>Category</th>\n",
       "      <th></th>\n",
       "    </tr>\n",
       "  </thead>\n",
       "  <tbody>\n",
       "    <tr>\n",
       "      <th>A</th>\n",
       "      <td>20.0</td>\n",
       "    </tr>\n",
       "    <tr>\n",
       "      <th>B</th>\n",
       "      <td>25.0</td>\n",
       "    </tr>\n",
       "  </tbody>\n",
       "</table>\n",
       "</div>"
      ],
      "text/plain": [
       "          Value\n",
       "Category       \n",
       "A          20.0\n",
       "B          25.0"
      ]
     },
     "execution_count": 1,
     "metadata": {},
     "output_type": "execute_result"
    }
   ],
   "source": [
    "import pandas as pd\n",
    "\n",
    "df = pd.DataFrame ({'Category': ['A', 'B', 'A', 'B', 'A', 'B'],\n",
    "    'Value': [10, 15, 20, 25, 30, 35]})\n",
    "\n",
    "data_mean = df.groupby('Category').mean()\n",
    "\n",
    "data_mean"
   ]
  },
  {
   "cell_type": "code",
   "execution_count": null,
   "id": "6b1cc6b5",
   "metadata": {},
   "outputs": [],
   "source": []
  },
  {
   "cell_type": "markdown",
   "id": "93cbca1a",
   "metadata": {},
   "source": [
    "# Q.9 difference between CrossTab vs Pivot table ?¶"
   ]
  },
  {
   "cell_type": "markdown",
   "id": "51db0ed5",
   "metadata": {},
   "source": [
    "Ans -\n",
    "\n",
    "Difference between a cross tab and a pivot table is \n",
    "\n",
    "Cross Tab                                              \n",
    "1. Analyze the relationship between two categorical variables.\n",
    "2. Categorical variables data types used.\n",
    "\n",
    "Pivot\n",
    "1. To summarize and analyze data based on different dimensions.\n",
    "2. Categorical and numerical variables data types used."
   ]
  },
  {
   "cell_type": "markdown",
   "id": "7498cd52",
   "metadata": {},
   "source": [
    "# Q.10 In  which scenerio what kind of plot you will use ? Numerical ==? , Categorical ==? \n",
    "\n",
    "Ans - \n",
    "\n",
    "This is Depends upon what kind dat do we have & insight which helps for Graphical Visualization as well as decision making."
   ]
  },
  {
   "cell_type": "markdown",
   "id": "ec11fdb3",
   "metadata": {},
   "source": [
    "# Numerical plots in data visualization: \n",
    "    1. Histogram\n",
    "    2. Box PLot\n",
    "    3. Line plot\n",
    "    4. Scatter Plo"
   ]
  },
  {
   "cell_type": "markdown",
   "id": "2937afc8",
   "metadata": {},
   "source": [
    "# Numerical plots in data visualization: \n",
    "    1. Histogram\n",
    "    2. Box PLot\n",
    "    3. Line plot\n",
    "    4. Scatter Plo"
   ]
  },
  {
   "cell_type": "markdown",
   "id": "d762bc87",
   "metadata": {},
   "source": [
    "# Q.11 What does TimeDelta in Pandas ?\n",
    "Ans - \n",
    "\n",
    "Timedelta represents the difference between two dates or times."
   ]
  },
  {
   "cell_type": "code",
   "execution_count": 3,
   "id": "a78018f1",
   "metadata": {},
   "outputs": [
    {
     "data": {
      "text/plain": [
       "Timedelta('5 days 03:30:00')"
      ]
     },
     "execution_count": 3,
     "metadata": {},
     "output_type": "execute_result"
    }
   ],
   "source": [
    "import pandas as pd\n",
    "\n",
    "delta = pd.Timedelta(days=5, hours=3, minutes=30)\n",
    "delta"
   ]
  },
  {
   "cell_type": "markdown",
   "id": "f99aac99",
   "metadata": {},
   "source": [
    "# Q.12 How can you extract day , month , year in a date column using pandas ?"
   ]
  },
  {
   "cell_type": "code",
   "execution_count": 4,
   "id": "6fa3c5e2",
   "metadata": {},
   "outputs": [
    {
     "data": {
      "text/html": [
       "<div>\n",
       "<style scoped>\n",
       "    .dataframe tbody tr th:only-of-type {\n",
       "        vertical-align: middle;\n",
       "    }\n",
       "\n",
       "    .dataframe tbody tr th {\n",
       "        vertical-align: top;\n",
       "    }\n",
       "\n",
       "    .dataframe thead th {\n",
       "        text-align: right;\n",
       "    }\n",
       "</style>\n",
       "<table border=\"1\" class=\"dataframe\">\n",
       "  <thead>\n",
       "    <tr style=\"text-align: right;\">\n",
       "      <th></th>\n",
       "      <th>Date</th>\n",
       "      <th>Day</th>\n",
       "      <th>Month</th>\n",
       "      <th>Year</th>\n",
       "    </tr>\n",
       "  </thead>\n",
       "  <tbody>\n",
       "    <tr>\n",
       "      <th>0</th>\n",
       "      <td>2023-08-04</td>\n",
       "      <td>4</td>\n",
       "      <td>8</td>\n",
       "      <td>2023</td>\n",
       "    </tr>\n",
       "    <tr>\n",
       "      <th>1</th>\n",
       "      <td>2023-08-05</td>\n",
       "      <td>5</td>\n",
       "      <td>8</td>\n",
       "      <td>2023</td>\n",
       "    </tr>\n",
       "    <tr>\n",
       "      <th>2</th>\n",
       "      <td>2023-08-06</td>\n",
       "      <td>6</td>\n",
       "      <td>8</td>\n",
       "      <td>2023</td>\n",
       "    </tr>\n",
       "  </tbody>\n",
       "</table>\n",
       "</div>"
      ],
      "text/plain": [
       "        Date  Day  Month  Year\n",
       "0 2023-08-04    4      8  2023\n",
       "1 2023-08-05    5      8  2023\n",
       "2 2023-08-06    6      8  2023"
      ]
     },
     "execution_count": 4,
     "metadata": {},
     "output_type": "execute_result"
    }
   ],
   "source": [
    "import pandas as pd\n",
    "\n",
    "data = {'Date': ['2023-08-04', '2023-08-05', '2023-08-06']}\n",
    "\n",
    "df = pd.DataFrame(data)\n",
    "\n",
    "df['Date'] = pd.to_datetime(df['Date'])\n",
    "\n",
    "\n",
    "df['Day'] = df['Date'].dt.day\n",
    "df['Month'] = df['Date'].dt.month\n",
    "df['Year'] = df['Date'].dt.year\n",
    "\n",
    "df"
   ]
  },
  {
   "cell_type": "markdown",
   "id": "50526871",
   "metadata": {},
   "source": [
    "# Q.13 How can you extract hours , minutes , seconds in a datetime column ?"
   ]
  },
  {
   "cell_type": "code",
   "execution_count": 5,
   "id": "d6a38787",
   "metadata": {},
   "outputs": [
    {
     "data": {
      "text/html": [
       "<div>\n",
       "<style scoped>\n",
       "    .dataframe tbody tr th:only-of-type {\n",
       "        vertical-align: middle;\n",
       "    }\n",
       "\n",
       "    .dataframe tbody tr th {\n",
       "        vertical-align: top;\n",
       "    }\n",
       "\n",
       "    .dataframe thead th {\n",
       "        text-align: right;\n",
       "    }\n",
       "</style>\n",
       "<table border=\"1\" class=\"dataframe\">\n",
       "  <thead>\n",
       "    <tr style=\"text-align: right;\">\n",
       "      <th></th>\n",
       "      <th>Datetime</th>\n",
       "      <th>Hour</th>\n",
       "      <th>Minute</th>\n",
       "      <th>Second</th>\n",
       "    </tr>\n",
       "  </thead>\n",
       "  <tbody>\n",
       "    <tr>\n",
       "      <th>0</th>\n",
       "      <td>2023-12-19 08:30:45</td>\n",
       "      <td>8</td>\n",
       "      <td>30</td>\n",
       "      <td>45</td>\n",
       "    </tr>\n",
       "    <tr>\n",
       "      <th>1</th>\n",
       "      <td>2023-12-20 15:45:30</td>\n",
       "      <td>15</td>\n",
       "      <td>45</td>\n",
       "      <td>30</td>\n",
       "    </tr>\n",
       "    <tr>\n",
       "      <th>2</th>\n",
       "      <td>2023-12-18 12:10:20</td>\n",
       "      <td>12</td>\n",
       "      <td>10</td>\n",
       "      <td>20</td>\n",
       "    </tr>\n",
       "  </tbody>\n",
       "</table>\n",
       "</div>"
      ],
      "text/plain": [
       "             Datetime  Hour  Minute  Second\n",
       "0 2023-12-19 08:30:45     8      30      45\n",
       "1 2023-12-20 15:45:30    15      45      30\n",
       "2 2023-12-18 12:10:20    12      10      20"
      ]
     },
     "execution_count": 5,
     "metadata": {},
     "output_type": "execute_result"
    }
   ],
   "source": [
    "import pandas as pd\n",
    "\n",
    "data = {'Datetime': ['2023-12-19 08:30:45', '2023-12-20 15:45:30', '2023-12-18 12:10:20']}\n",
    "\n",
    "df = pd.DataFrame(data)\n",
    "\n",
    "df['Datetime'] = pd.to_datetime(df['Datetime'])\n",
    "\n",
    "\n",
    "df['Hour'] = df['Datetime'].dt.hour\n",
    "df['Minute'] = df['Datetime'].dt.minute\n",
    "df['Second'] = df['Datetime'].dt.second\n",
    "\n",
    "\n",
    "df"
   ]
  },
  {
   "cell_type": "markdown",
   "id": "3b2fade7",
   "metadata": {},
   "source": [
    "# Q.14 How do you read a excel file , csv file and json file in jupyter notebook using pandas ? "
   ]
  },
  {
   "cell_type": "code",
   "execution_count": 6,
   "id": "bd922d84",
   "metadata": {},
   "outputs": [
    {
     "data": {
      "text/html": [
       "<div>\n",
       "<style scoped>\n",
       "    .dataframe tbody tr th:only-of-type {\n",
       "        vertical-align: middle;\n",
       "    }\n",
       "\n",
       "    .dataframe tbody tr th {\n",
       "        vertical-align: top;\n",
       "    }\n",
       "\n",
       "    .dataframe thead th {\n",
       "        text-align: right;\n",
       "    }\n",
       "</style>\n",
       "<table border=\"1\" class=\"dataframe\">\n",
       "  <thead>\n",
       "    <tr style=\"text-align: right;\">\n",
       "      <th></th>\n",
       "      <th>Unnamed: 0</th>\n",
       "      <th>ProductID</th>\n",
       "      <th>QuantitySold</th>\n",
       "      <th>Price</th>\n",
       "      <th>Discount</th>\n",
       "      <th>Category</th>\n",
       "      <th>Supplier</th>\n",
       "      <th>Date</th>\n",
       "      <th>CustomerID</th>\n",
       "      <th>Country</th>\n",
       "      <th>Profit</th>\n",
       "    </tr>\n",
       "  </thead>\n",
       "  <tbody>\n",
       "    <tr>\n",
       "      <th>0</th>\n",
       "      <td>0</td>\n",
       "      <td>C</td>\n",
       "      <td>8</td>\n",
       "      <td>75.539471</td>\n",
       "      <td>0.064576</td>\n",
       "      <td>Toys</td>\n",
       "      <td>Supplier1</td>\n",
       "      <td>01-01-2022</td>\n",
       "      <td>1148</td>\n",
       "      <td>USA</td>\n",
       "      <td>20.835021</td>\n",
       "    </tr>\n",
       "    <tr>\n",
       "      <th>1</th>\n",
       "      <td>1</td>\n",
       "      <td>A</td>\n",
       "      <td>8</td>\n",
       "      <td>43.100482</td>\n",
       "      <td>0.142251</td>\n",
       "      <td>Toys</td>\n",
       "      <td>Supplier3</td>\n",
       "      <td>02-01-2022</td>\n",
       "      <td>1079</td>\n",
       "      <td>USA</td>\n",
       "      <td>11.003640</td>\n",
       "    </tr>\n",
       "    <tr>\n",
       "      <th>2</th>\n",
       "      <td>2</td>\n",
       "      <td>C</td>\n",
       "      <td>3</td>\n",
       "      <td>66.907525</td>\n",
       "      <td>0.198508</td>\n",
       "      <td>Clothing</td>\n",
       "      <td>Supplier2</td>\n",
       "      <td>03-01-2022</td>\n",
       "      <td>1885</td>\n",
       "      <td>Canada</td>\n",
       "      <td>6.896583</td>\n",
       "    </tr>\n",
       "    <tr>\n",
       "      <th>3</th>\n",
       "      <td>3</td>\n",
       "      <td>C</td>\n",
       "      <td>1</td>\n",
       "      <td>67.017674</td>\n",
       "      <td>0.071013</td>\n",
       "      <td>Home</td>\n",
       "      <td>Supplier3</td>\n",
       "      <td>04-01-2022</td>\n",
       "      <td>1212</td>\n",
       "      <td>USA</td>\n",
       "      <td>8.221993</td>\n",
       "    </tr>\n",
       "    <tr>\n",
       "      <th>4</th>\n",
       "      <td>4</td>\n",
       "      <td>A</td>\n",
       "      <td>8</td>\n",
       "      <td>58.219722</td>\n",
       "      <td>0.127749</td>\n",
       "      <td>Toys</td>\n",
       "      <td>Supplier3</td>\n",
       "      <td>05-01-2022</td>\n",
       "      <td>1202</td>\n",
       "      <td>UK</td>\n",
       "      <td>8.201146</td>\n",
       "    </tr>\n",
       "  </tbody>\n",
       "</table>\n",
       "</div>"
      ],
      "text/plain": [
       "   Unnamed: 0 ProductID  QuantitySold      Price  Discount  Category  \\\n",
       "0           0         C             8  75.539471  0.064576      Toys   \n",
       "1           1         A             8  43.100482  0.142251      Toys   \n",
       "2           2         C             3  66.907525  0.198508  Clothing   \n",
       "3           3         C             1  67.017674  0.071013      Home   \n",
       "4           4         A             8  58.219722  0.127749      Toys   \n",
       "\n",
       "    Supplier        Date  CustomerID Country     Profit  \n",
       "0  Supplier1  01-01-2022        1148     USA  20.835021  \n",
       "1  Supplier3  02-01-2022        1079     USA  11.003640  \n",
       "2  Supplier2  03-01-2022        1885  Canada   6.896583  \n",
       "3  Supplier3  04-01-2022        1212     USA   8.221993  \n",
       "4  Supplier3  05-01-2022        1202      UK   8.201146  "
      ]
     },
     "execution_count": 6,
     "metadata": {},
     "output_type": "execute_result"
    }
   ],
   "source": [
    "import pandas as pd\n",
    "\n",
    "df = pd.read_csv(\"C:\\\\Users\\\\VINIT SANDESH\\\\Desktop\\\\DATA ANALYTICS\\\\PYTHON\\\\PROJECT DATASETS\\\\sales_data.csv\")\n",
    "df.head()"
   ]
  },
  {
   "cell_type": "code",
   "execution_count": null,
   "id": "e9f6bce4",
   "metadata": {},
   "outputs": [],
   "source": [
    "import pandas as pd\n",
    "import json\n",
    "\n",
    "df = pd.read_json(\"C:\\\\Users\\\\VINIT SANDESH\\\\Downloads\\\\dwsample1-json.json\")\n",
    "df"
   ]
  },
  {
   "cell_type": "markdown",
   "id": "893ec7b9",
   "metadata": {},
   "source": [
    "# Q.15 How can you create  excel data from a dataframe using pandas ?"
   ]
  },
  {
   "cell_type": "code",
   "execution_count": 22,
   "id": "67153501",
   "metadata": {},
   "outputs": [],
   "source": [
    "Sample = df.to_excel(\"C:\\\\Users\\\\VINIT SANDESH\\\\Sample.xlsx\")"
   ]
  }
 ],
 "metadata": {
  "kernelspec": {
   "display_name": "Python 3 (ipykernel)",
   "language": "python",
   "name": "python3"
  },
  "language_info": {
   "codemirror_mode": {
    "name": "ipython",
    "version": 3
   },
   "file_extension": ".py",
   "mimetype": "text/x-python",
   "name": "python",
   "nbconvert_exporter": "python",
   "pygments_lexer": "ipython3",
   "version": "3.11.5"
  }
 },
 "nbformat": 4,
 "nbformat_minor": 5
}
